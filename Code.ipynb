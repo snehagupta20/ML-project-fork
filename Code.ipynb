{
 "cells": [
  {
   "cell_type": "markdown",
   "id": "7f397b58-44fa-4fb5-ac07-0925197a60f3",
   "metadata": {},
   "source": [
    "### 1. Libraries used:"
   ]
  },
  {
   "cell_type": "code",
   "execution_count": 2,
   "id": "2fb7743d-817d-4a36-8b31-bc9c014ac252",
   "metadata": {},
   "outputs": [],
   "source": [
    "# Uncomment if not installed already\n",
    "\n",
    "# PySpark: Big data processing library \n",
    "# !pip install pyspark\n",
    "# Elephas: Distributed deep learning modules for federated learning\n",
    "# !pip install elephas\n",
    "# Numpy: For matrix handling\n",
    "import numpy\n",
    "# Pandas: For data processing\n",
    "import pandas as pd\n",
    "# OS: For getting the system information\n",
    "import os\n",
    "# Warnings: For handling how warnings are taken care of warnings\n",
    "import warnings"
   ]
  },
  {
   "cell_type": "code",
   "execution_count": 3,
   "id": "9dd95e55-e386-437a-a8db-bcee2b698cf0",
   "metadata": {},
   "outputs": [
    {
     "data": {
      "text/html": [
       "<div>\n",
       "<style scoped>\n",
       "    .dataframe tbody tr th:only-of-type {\n",
       "        vertical-align: middle;\n",
       "    }\n",
       "\n",
       "    .dataframe tbody tr th {\n",
       "        vertical-align: top;\n",
       "    }\n",
       "\n",
       "    .dataframe thead th {\n",
       "        text-align: right;\n",
       "    }\n",
       "</style>\n",
       "<table border=\"1\" class=\"dataframe\">\n",
       "  <thead>\n",
       "    <tr style=\"text-align: right;\">\n",
       "      <th></th>\n",
       "      <th>Feature Name</th>\n",
       "      <th>Feature Description</th>\n",
       "    </tr>\n",
       "  </thead>\n",
       "  <tbody>\n",
       "    <tr>\n",
       "      <th>0</th>\n",
       "      <td>MI_dir_L5_weight</td>\n",
       "      <td>MI dir Lambda 5 weight</td>\n",
       "    </tr>\n",
       "    <tr>\n",
       "      <th>1</th>\n",
       "      <td>MI_dir_L5_mean</td>\n",
       "      <td>MI dir Lambda 5 mean</td>\n",
       "    </tr>\n",
       "    <tr>\n",
       "      <th>2</th>\n",
       "      <td>MI_dir_L5_variance</td>\n",
       "      <td>MI dir Lambda 5 variance</td>\n",
       "    </tr>\n",
       "    <tr>\n",
       "      <th>3</th>\n",
       "      <td>MI_dir_L3_weight</td>\n",
       "      <td>MI dir Lambda 3 weight</td>\n",
       "    </tr>\n",
       "    <tr>\n",
       "      <th>4</th>\n",
       "      <td>MI_dir_L3_mean</td>\n",
       "      <td>MI dir Lambda 3 mean</td>\n",
       "    </tr>\n",
       "    <tr>\n",
       "      <th>...</th>\n",
       "      <td>...</td>\n",
       "      <td>...</td>\n",
       "    </tr>\n",
       "    <tr>\n",
       "      <th>110</th>\n",
       "      <td>HpHp_L0.01_std</td>\n",
       "      <td>traffic going from this packet's host+port (IP...</td>\n",
       "    </tr>\n",
       "    <tr>\n",
       "      <th>111</th>\n",
       "      <td>HpHp_L0.01_magnitude</td>\n",
       "      <td>traffic going from this packet's host+port (IP...</td>\n",
       "    </tr>\n",
       "    <tr>\n",
       "      <th>112</th>\n",
       "      <td>HpHp_L0.01_radius</td>\n",
       "      <td>traffic going from this packet's host+port (IP...</td>\n",
       "    </tr>\n",
       "    <tr>\n",
       "      <th>113</th>\n",
       "      <td>HpHp_L0.01_covariance</td>\n",
       "      <td>traffic going from this packet's host+port (IP...</td>\n",
       "    </tr>\n",
       "    <tr>\n",
       "      <th>114</th>\n",
       "      <td>HpHp_L0.01_pcc</td>\n",
       "      <td>traffic going from this packet's host+port (IP...</td>\n",
       "    </tr>\n",
       "  </tbody>\n",
       "</table>\n",
       "<p>115 rows × 2 columns</p>\n",
       "</div>"
      ],
      "text/plain": [
       "              Feature Name                                Feature Description\n",
       "0         MI_dir_L5_weight                             MI dir Lambda 5 weight\n",
       "1           MI_dir_L5_mean                               MI dir Lambda 5 mean\n",
       "2       MI_dir_L5_variance                           MI dir Lambda 5 variance\n",
       "3         MI_dir_L3_weight                             MI dir Lambda 3 weight\n",
       "4           MI_dir_L3_mean                               MI dir Lambda 3 mean\n",
       "..                     ...                                                ...\n",
       "110         HpHp_L0.01_std  traffic going from this packet's host+port (IP...\n",
       "111   HpHp_L0.01_magnitude  traffic going from this packet's host+port (IP...\n",
       "112      HpHp_L0.01_radius  traffic going from this packet's host+port (IP...\n",
       "113  HpHp_L0.01_covariance  traffic going from this packet's host+port (IP...\n",
       "114         HpHp_L0.01_pcc  traffic going from this packet's host+port (IP...\n",
       "\n",
       "[115 rows x 2 columns]"
      ]
     },
     "execution_count": 3,
     "metadata": {},
     "output_type": "execute_result"
    }
   ],
   "source": [
    "features = pd.read_csv(\"data/features.csv\")\n",
    "features"
   ]
  },
  {
   "cell_type": "code",
   "execution_count": null,
   "id": "91d70eb5-cce7-4352-aeed-5216be5ad43b",
   "metadata": {},
   "outputs": [],
   "source": [
    "# Made some changes in the codeg"
   ]
  },
  {
   "cell_type": "code",
   "execution_count": null,
   "id": "34eaf9d3",
   "metadata": {},
   "outputs": [],
   "source": []
  }
 ],
 "metadata": {
  "kernelspec": {
   "display_name": "Python 3 (ipykernel)",
   "language": "python",
   "name": "python3"
  },
  "language_info": {
   "codemirror_mode": {
    "name": "ipython",
    "version": 3
   },
   "file_extension": ".py",
   "mimetype": "text/x-python",
   "name": "python",
   "nbconvert_exporter": "python",
   "pygments_lexer": "ipython3",
   "version": "3.11.4"
  }
 },
 "nbformat": 4,
 "nbformat_minor": 5
}
